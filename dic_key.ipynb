{
 "cells": [
  {
   "cell_type": "code",
   "execution_count": 8,
   "metadata": {
    "scrolled": false
   },
   "outputs": [
    {
     "data": {
      "text/plain": [
       "[{'title': '<b>툴리</b>',\n",
       "  'link': 'https://movie.naver.com/movie/bi/mi/basic.nhn?code=213089',\n",
       "  'image': 'https://ssl.pstatic.net/imgmovie/mdi/mit110/2130/213089_P01_164152.jpg',\n",
       "  'subtitle': 'Tooly',\n",
       "  'pubDate': '2021',\n",
       "  'director': '칼라 하트|',\n",
       "  'actor': '',\n",
       "  'userRating': '0.00'},\n",
       " {'title': '<b>툴리</b>',\n",
       "  'link': 'https://movie.naver.com/movie/bi/mi/basic.nhn?code=154653',\n",
       "  'image': 'https://ssl.pstatic.net/imgmovie/mdi/mit110/1546/154653_P12_102646.jpg',\n",
       "  'subtitle': 'Tully',\n",
       "  'pubDate': '2018',\n",
       "  'director': '제이슨 라이트맨|',\n",
       "  'actor': '샤를리즈 테론|맥켄지 데이비스|',\n",
       "  'userRating': '9.01'},\n",
       " {'title': '<b>툴리</b> 레이크',\n",
       "  'link': 'https://movie.naver.com/movie/bi/mi/basic.nhn?code=104711',\n",
       "  'image': 'https://ssl.pstatic.net/imgmovie/mdi/mit110/1047/104711_P01_160910.jpg',\n",
       "  'subtitle': 'Tule Lake',\n",
       "  'pubDate': '2012',\n",
       "  'director': '미쉘 이케모토|',\n",
       "  'actor': '',\n",
       "  'userRating': '0.00'},\n",
       " {'title': '트리 오브 <b>툴리</b>',\n",
       "  'link': 'https://movie.naver.com/movie/bi/mi/basic.nhn?code=109867',\n",
       "  'image': '',\n",
       "  'subtitle': 'Tree of Tule',\n",
       "  'pubDate': '2012',\n",
       "  'director': '폴 그레이|에런 그레이|',\n",
       "  'actor': '에런 그레이|',\n",
       "  'userRating': '0.00'}]"
      ]
     },
     "execution_count": 8,
     "metadata": {},
     "output_type": "execute_result"
    }
   ],
   "source": [
    "m = search_title(keyword)\n",
    "m"
   ]
  },
  {
   "cell_type": "code",
   "execution_count": 9,
   "metadata": {},
   "outputs": [
    {
     "data": {
      "text/plain": [
       "'213089'"
      ]
     },
     "execution_count": 9,
     "metadata": {},
     "output_type": "execute_result"
    }
   ],
   "source": [
    "link_lst = []\n",
    "\n",
    "for i in range(0, len(m)):\n",
    "    link_lst.append(m[i]['link'])\n",
    "    spl = str(link_lst).split(\"=\")\n",
    "    it = spl[1]\n",
    "    code = str(it).split(\"'\")\n",
    "\n",
    "code[0]"
   ]
  }
 ],
 "metadata": {
  "kernelspec": {
   "display_name": "Python 3",
   "language": "python",
   "name": "python3"
  },
  "language_info": {
   "codemirror_mode": {
    "name": "ipython",
    "version": 3
   },
   "file_extension": ".py",
   "mimetype": "text/x-python",
   "name": "python",
   "nbconvert_exporter": "python",
   "pygments_lexer": "ipython3",
   "version": "3.8.13"
  },
  "toc": {
   "base_numbering": 1,
   "nav_menu": {},
   "number_sections": true,
   "sideBar": true,
   "skip_h1_title": false,
   "title_cell": "Table of Contents",
   "title_sidebar": "Contents",
   "toc_cell": false,
   "toc_position": {},
   "toc_section_display": true,
   "toc_window_display": false
  },
  "varInspector": {
   "cols": {
    "lenName": 16,
    "lenType": 16,
    "lenVar": 40
   },
   "kernels_config": {
    "python": {
     "delete_cmd_postfix": "",
     "delete_cmd_prefix": "del ",
     "library": "var_list.py",
     "varRefreshCmd": "print(var_dic_list())"
    },
    "r": {
     "delete_cmd_postfix": ") ",
     "delete_cmd_prefix": "rm(",
     "library": "var_list.r",
     "varRefreshCmd": "cat(var_dic_list()) "
    }
   },
   "types_to_exclude": [
    "module",
    "function",
    "builtin_function_or_method",
    "instance",
    "_Feature"
   ],
   "window_display": false
  }
 },
 "nbformat": 4,
 "nbformat_minor": 4
}
